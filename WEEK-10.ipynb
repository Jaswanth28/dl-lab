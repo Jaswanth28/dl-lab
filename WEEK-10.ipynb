{
  "cells": [
    {
      "cell_type": "markdown",
      "metadata": {
        "id": "dWag5sO_8xRG"
      },
      "source": [
        "**Build a bidirectional Recurrent Neural Network for any one application.**"
      ]
    },
    {
      "cell_type": "code",
      "execution_count": 1,
      "metadata": {
        "id": "-Y122Uxi8rmg"
      },
      "outputs": [
        {
          "name": "stdout",
          "output_type": "stream",
          "text": [
            "WARNING:tensorflow:From c:\\Users\\Jaswanth\\AppData\\Local\\Programs\\Python\\Python310\\lib\\site-packages\\keras\\src\\losses.py:2976: The name tf.losses.sparse_softmax_cross_entropy is deprecated. Please use tf.compat.v1.losses.sparse_softmax_cross_entropy instead.\n",
            "\n"
          ]
        }
      ],
      "source": [
        "# Import necessary packages\n",
        "import warnings\n",
        "warnings.filterwarnings('ignore')\n",
        "from keras.datasets import imdb\n",
        "from keras.utils import pad_sequences\n",
        "from keras.models import Sequential\n",
        "from keras.layers import Embedding,\tBidirectional, SimpleRNN, Dense"
      ]
    },
    {
      "cell_type": "code",
      "execution_count": 2,
      "metadata": {
        "colab": {
          "base_uri": "https://localhost:8080/"
        },
        "id": "ZZg3RvBb84Pf",
        "outputId": "43a72789-e08d-4da4-f0ba-1cf7674c55d3"
      },
      "outputs": [],
      "source": [
        "# Load Dataset and split for Training and Testing\n",
        "features = 2000\n",
        "len = 50\n",
        "(X_train, y_train),(X_test, y_test) = imdb.load_data(num_words=features)"
      ]
    },
    {
      "cell_type": "code",
      "execution_count": 3,
      "metadata": {
        "id": "32a3aaoX853Q"
      },
      "outputs": [],
      "source": [
        "# Fix the pad sequence\n",
        "X_train = pad_sequences(X_train, maxlen=len)\n",
        "X_test = pad_sequences(X_test, maxlen=len)\n",
        "\n",
        "embedding = 128\n",
        "hidden = 64"
      ]
    },
    {
      "cell_type": "code",
      "execution_count": 4,
      "metadata": {
        "id": "AeqjSyrL87kb"
      },
      "outputs": [
        {
          "name": "stdout",
          "output_type": "stream",
          "text": [
            "WARNING:tensorflow:From c:\\Users\\Jaswanth\\AppData\\Local\\Programs\\Python\\Python310\\lib\\site-packages\\keras\\src\\backend.py:873: The name tf.get_default_graph is deprecated. Please use tf.compat.v1.get_default_graph instead.\n",
            "\n",
            "WARNING:tensorflow:From c:\\Users\\Jaswanth\\AppData\\Local\\Programs\\Python\\Python310\\lib\\site-packages\\keras\\src\\optimizers\\__init__.py:309: The name tf.train.Optimizer is deprecated. Please use tf.compat.v1.train.Optimizer instead.\n",
            "\n"
          ]
        }
      ],
      "source": [
        "# Create a Sequential model object\n",
        "model = Sequential()\n",
        "model.add(Embedding(features, embedding,input_length=len))\n",
        "model.add(Bidirectional(SimpleRNN(hidden)))\n",
        "model.add(Dense(1, activation='sigmoid'))\n",
        "model.compile('adam', 'binary_crossentropy',metrics=['accuracy'])"
      ]
    },
    {
      "cell_type": "code",
      "execution_count": 5,
      "metadata": {
        "colab": {
          "base_uri": "https://localhost:8080/"
        },
        "id": "9sAHKXr_89q2",
        "outputId": "e1857501-4d53-4061-d81f-6a9d1f2833e9"
      },
      "outputs": [
        {
          "name": "stdout",
          "output_type": "stream",
          "text": [
            "Epoch 1/5\n",
            "WARNING:tensorflow:From c:\\Users\\Jaswanth\\AppData\\Local\\Programs\\Python\\Python310\\lib\\site-packages\\keras\\src\\utils\\tf_utils.py:492: The name tf.ragged.RaggedTensorValue is deprecated. Please use tf.compat.v1.ragged.RaggedTensorValue instead.\n",
            "\n",
            "WARNING:tensorflow:From c:\\Users\\Jaswanth\\AppData\\Local\\Programs\\Python\\Python310\\lib\\site-packages\\keras\\src\\engine\\base_layer_utils.py:384: The name tf.executing_eagerly_outside_functions is deprecated. Please use tf.compat.v1.executing_eagerly_outside_functions instead.\n",
            "\n",
            "782/782 [==============================] - 10s 12ms/step - loss: 0.5147 - accuracy: 0.7414 - val_loss: 0.4389 - val_accuracy: 0.7984\n",
            "Epoch 2/5\n",
            "782/782 [==============================] - 9s 11ms/step - loss: 0.4010 - accuracy: 0.8213 - val_loss: 0.4573 - val_accuracy: 0.7862\n",
            "Epoch 3/5\n",
            "782/782 [==============================] - 9s 11ms/step - loss: 0.3144 - accuracy: 0.8663 - val_loss: 0.5353 - val_accuracy: 0.7514\n",
            "Epoch 4/5\n",
            "782/782 [==============================] - 9s 11ms/step - loss: 0.1973 - accuracy: 0.9230 - val_loss: 0.6938 - val_accuracy: 0.7127\n",
            "Epoch 5/5\n",
            "782/782 [==============================] - 9s 11ms/step - loss: 0.1093 - accuracy: 0.9599 - val_loss: 0.8736 - val_accuracy: 0.7434\n",
            "782/782 [==============================] - 2s 2ms/step - loss: 0.8736 - accuracy: 0.7434\n",
            "Test accuracy: 0.7433599829673767\n"
          ]
        }
      ],
      "source": [
        "# Set batch size and number of epochs you want\n",
        "batch_size = 32\n",
        "epochs = 5\n",
        "\n",
        "model.fit(X_train, y_train, batch_size=batch_size, epochs=epochs, validation_data=(X_test, y_test))\n",
        "\n",
        "loss, accuracy = model.evaluate(X_test, y_test)\n",
        "print('Test accuracy:', accuracy)"
      ]
    }
  ],
  "metadata": {
    "accelerator": "GPU",
    "colab": {
      "gpuType": "T4",
      "provenance": []
    },
    "kernelspec": {
      "display_name": "Python 3",
      "name": "python3"
    },
    "language_info": {
      "codemirror_mode": {
        "name": "ipython",
        "version": 3
      },
      "file_extension": ".py",
      "mimetype": "text/x-python",
      "name": "python",
      "nbconvert_exporter": "python",
      "pygments_lexer": "ipython3",
      "version": "3.10.10"
    }
  },
  "nbformat": 4,
  "nbformat_minor": 0
}
